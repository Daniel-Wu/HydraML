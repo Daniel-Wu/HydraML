{
 "cells": [
  {
   "cell_type": "code",
   "execution_count": 6,
   "metadata": {},
   "outputs": [],
   "source": [
    "from PIL import Image\n",
    "import numpy as np\n",
    "import os\n",
    "import pandas as pd"
   ]
  },
  {
   "cell_type": "markdown",
   "metadata": {},
   "source": [
    "# Import Image"
   ]
  },
  {
   "cell_type": "code",
   "execution_count": 7,
   "metadata": {},
   "outputs": [],
   "source": [
    "def load_image(imgFileName) :\n",
    "    img = Image.open(imgFileName) # in example image: width = 1920, height = 1080\n",
    "    imgData = np.asarray(img)\n",
    "    return imgData"
   ]
  },
  {
   "cell_type": "code",
   "execution_count": 8,
   "metadata": {},
   "outputs": [
    {
     "name": "stdout",
     "output_type": "stream",
     "text": [
      "Dimensions:  (1080, 1920, 3)\n",
      "Image array data:\n",
      " [[  0  43  56]\n",
      " [  0  44  57]\n",
      " [  3  47  60]\n",
      " ...\n",
      " [  1  62 119]\n",
      " [  0  61 118]\n",
      " [  0  61 118]]\n"
     ]
    }
   ],
   "source": [
    "# test loading image\n",
    "imageFileName = 'exampleImage.jpg'\n",
    "imgArr = load_image(imageFileName)\n",
    "print(\"Dimensions: \", imgArr.shape)\n",
    "print(\"Image array data:\\n\", imgArr[0])"
   ]
  },
  {
   "cell_type": "markdown",
   "metadata": {},
   "source": [
    "# Calculate Brightness"
   ]
  },
  {
   "cell_type": "code",
   "execution_count": 9,
   "metadata": {},
   "outputs": [],
   "source": [
    "def getTotBrightness(imgArray):\n",
    "    (height, width, depth) = imgArray.shape\n",
    "    totBrightness = 0\n",
    "\n",
    "    rgb_avg = np.mean(imgArray, axis=(0,1))\n",
    "    brightness = (0.2126*rgb_avg[0] + 0.7152*rgb_avg[1] + 0.0722*rgb_avg[2])/255.0\n",
    "    return brightness"
   ]
  },
  {
   "cell_type": "code",
   "execution_count": 10,
   "metadata": {},
   "outputs": [
    {
     "name": "stdout",
     "output_type": "stream",
     "text": [
      "0.32768453931024566\n",
      "0.6946060379361164\n"
     ]
    }
   ],
   "source": [
    "# get brightness tests\n",
    "imageFileName = './exampleImage.jpg'\n",
    "imageFileNameBright = './exampleBright.jpg'\n",
    "imgArr1 = load_image(imageFileName)\n",
    "imgArr2 = load_image(imageFileNameBright)\n",
    "print(getTotBrightness(imgArr1))\n",
    "print(getTotBrightness(imgArr2))"
   ]
  },
  {
   "cell_type": "code",
   "execution_count": 46,
   "metadata": {},
   "outputs": [],
   "source": [
    "brightnessList = []\n",
    "labelsList = []\n",
    "for root, dirs, files in os.walk(\"./../dataset/train\", topdown=True):\n",
    "    for name in files:\n",
    "        imgname = os.path.join(root, name)\n",
    "        imgarr = load_image(imgname)\n",
    "        brightnessList.append(getTotBrightness(imgarr))\n",
    "        labelsList.append(getNumericLabel(name))\n",
    "        \n",
    "brightArr = np.array(brightnessList)"
   ]
  },
  {
   "cell_type": "code",
   "execution_count": 48,
   "metadata": {},
   "outputs": [],
   "source": [
    "labelsArr = np.array(labelsList)"
   ]
  },
  {
   "cell_type": "code",
   "execution_count": 49,
   "metadata": {},
   "outputs": [
    {
     "name": "stdout",
     "output_type": "stream",
     "text": [
      "[[0.43841052]\n",
      " [0.52351046]\n",
      " [0.49166041]\n",
      " [0.4765854 ]\n",
      " [0.4580763 ]\n",
      " [0.44711355]\n",
      " [0.48285864]\n",
      " [0.4890082 ]\n",
      " [0.48350193]\n",
      " [0.47448601]\n",
      " [0.44165898]\n",
      " [0.44402583]\n",
      " [0.3996691 ]\n",
      " [0.47322856]\n",
      " [0.43875608]\n",
      " [0.46727597]\n",
      " [0.44735473]\n",
      " [0.53278204]\n",
      " [0.35193227]\n",
      " [0.40849004]\n",
      " [0.45176643]\n",
      " [0.51897336]\n",
      " [0.47839574]\n",
      " [0.4029638 ]\n",
      " [0.49931554]\n",
      " [0.48541869]\n",
      " [0.44100164]\n",
      " [0.45633418]\n",
      " [0.52132764]\n",
      " [0.47826881]\n",
      " [0.4764549 ]\n",
      " [0.4700735 ]\n",
      " [0.48423592]\n",
      " [0.49434637]\n",
      " [0.53273627]\n",
      " [0.45889408]\n",
      " [0.44132335]\n",
      " [0.50851334]\n",
      " [0.46645417]\n",
      " [0.474165  ]\n",
      " [0.4696016 ]\n",
      " [0.51516613]\n",
      " [0.43813388]\n",
      " [0.49596137]\n",
      " [0.42802772]\n",
      " [0.52860058]\n",
      " [0.48546788]\n",
      " [0.50154385]\n",
      " [0.4984931 ]\n",
      " [0.50657048]\n",
      " [0.48892414]\n",
      " [0.4942327 ]\n",
      " [0.47976773]\n",
      " [0.38681603]\n",
      " [0.450743  ]\n",
      " [0.45222581]\n",
      " [0.48465779]\n",
      " [0.47896544]\n",
      " [0.49518022]\n",
      " [0.43136492]\n",
      " [0.47453947]\n",
      " [0.57475227]\n",
      " [0.41982223]\n",
      " [0.45908715]\n",
      " [0.38895429]\n",
      " [0.47265945]\n",
      " [0.49785824]\n",
      " [0.46715612]\n",
      " [0.53116962]\n",
      " [0.41454408]\n",
      " [0.46324156]\n",
      " [0.43455063]\n",
      " [0.42839071]\n",
      " [0.48068462]\n",
      " [0.49030953]\n",
      " [0.44871486]\n",
      " [0.42644754]\n",
      " [0.51266292]\n",
      " [0.48775418]\n",
      " [0.46001789]\n",
      " [0.52549559]\n",
      " [0.50644532]\n",
      " [0.47629981]\n",
      " [0.46232877]\n",
      " [0.39127395]\n",
      " [0.49203643]\n",
      " [0.43224285]\n",
      " [0.49181043]\n",
      " [0.44759892]\n",
      " [0.44439172]\n",
      " [0.49241497]\n",
      " [0.56780656]\n",
      " [0.45590973]\n",
      " [0.50649947]\n",
      " [0.51172891]\n",
      " [0.52925903]\n",
      " [0.48742062]\n",
      " [0.51305697]\n",
      " [0.56975945]\n",
      " [0.40450509]\n",
      " [0.40211431]\n",
      " [0.52051427]\n",
      " [0.48207472]\n",
      " [0.4672983 ]\n",
      " [0.45879933]\n",
      " [0.42311482]\n",
      " [0.53810246]\n",
      " [0.43447026]\n",
      " [0.47784422]\n",
      " [0.47316911]\n",
      " [0.4367473 ]\n",
      " [0.4479336 ]\n",
      " [0.54167407]\n",
      " [0.46233275]\n",
      " [0.46635562]\n",
      " [0.4844803 ]\n",
      " [0.50668614]\n",
      " [0.45765071]\n",
      " [0.43394914]\n",
      " [0.36332494]\n",
      " [0.53181187]\n",
      " [0.48694707]\n",
      " [0.48683577]\n",
      " [0.47081138]\n",
      " [0.47386685]\n",
      " [0.47163838]\n",
      " [0.50500188]\n",
      " [0.50515523]\n",
      " [0.44977432]\n",
      " [0.46345046]\n",
      " [0.44857387]\n",
      " [0.48446362]\n",
      " [0.41183866]\n",
      " [0.51460747]\n",
      " [0.45733923]\n",
      " [0.40399157]\n",
      " [0.46807141]\n",
      " [0.43528069]\n",
      " [0.53723403]\n",
      " [0.50467768]\n",
      " [0.4019864 ]\n",
      " [0.42931141]\n",
      " [0.49545691]\n",
      " [0.47169097]\n",
      " [0.4604382 ]\n",
      " [0.45585438]\n",
      " [0.46001324]\n",
      " [0.36911194]\n",
      " [0.49675841]\n",
      " [0.49529174]\n",
      " [0.46977749]\n",
      " [0.43031948]\n",
      " [0.44018799]\n",
      " [0.48870747]\n",
      " [0.43902622]\n",
      " [0.44670852]\n",
      " [0.49441826]\n",
      " [0.45541896]\n",
      " [0.47769815]\n",
      " [0.47967846]\n",
      " [0.54513224]\n",
      " [0.45222078]\n",
      " [0.45797513]\n",
      " [0.49970979]\n",
      " [0.53760813]\n",
      " [0.45624678]\n",
      " [0.44537918]\n",
      " [0.46641026]\n",
      " [0.40600446]\n",
      " [0.50842557]\n",
      " [0.4732964 ]\n",
      " [0.49628109]\n",
      " [0.5258645 ]\n",
      " [0.43236945]\n",
      " [0.4667961 ]\n",
      " [0.46990228]\n",
      " [0.51943186]\n",
      " [0.4560012 ]\n",
      " [0.40630496]\n",
      " [0.49652408]\n",
      " [0.5330202 ]\n",
      " [0.47974421]\n",
      " [0.45795944]\n",
      " [0.53488302]\n",
      " [0.53416939]\n",
      " [0.52711547]\n",
      " [0.48193816]\n",
      " [0.49488984]\n",
      " [0.43730182]\n",
      " [0.440339  ]\n",
      " [0.3971839 ]\n",
      " [0.43526725]\n",
      " [0.45414364]]\n",
      "(193, 1)\n"
     ]
    }
   ],
   "source": [
    "brightArr = brightArr.reshape(-1, 1)\n",
    "print(brightArr)\n",
    "print(brightArr.shape)"
   ]
  },
  {
   "cell_type": "code",
   "execution_count": 50,
   "metadata": {},
   "outputs": [],
   "source": [
    "np.save('brightArr.npy', brightArr)"
   ]
  },
  {
   "cell_type": "code",
   "execution_count": 51,
   "metadata": {},
   "outputs": [],
   "source": [
    "labelCSV = pd.read_csv(\"BleachingScoresJuly2018.csv\")\n",
    "\n",
    "def getNumericLabel(filename):\n",
    "    root = filename[:-4]\n",
    "    day, temperature, tank, coralNum = root.split(\"_\")\n",
    "    day = int(day)\n",
    "    temperature = float(temperature)\n",
    "    tank = int(tank)\n",
    "    coralNum = int(coralNum)\n",
    "    \n",
    "    temp = labelCSV[labelCSV.Day == (day - 1)]\n",
    "    temp = temp[temp.Temperature == temperature]\n",
    "    temp = temp[temp.Tank_Number == tank]\n",
    "    temp = temp[temp.Colony_Number == coralNum]\n",
    "        \n",
    "    if temp.shape[0] > 1:\n",
    "        raise \"AHHHHHH more than one record for this image\"\n",
    "    \n",
    "    label = str(temp.iloc[0].Score)\n",
    "    if label == 'N': # None\n",
    "        return 1.0\n",
    "    elif label == 'V': # Visible\n",
    "        return 2.0\n",
    "    elif label == 'M': # Moderate\n",
    "        return 3.0\n",
    "    elif label == 'S': # Severe\n",
    "        return 4.0\n",
    "    elif label == 'T': # Total\n",
    "        return 5.0\n",
    "        "
   ]
  },
  {
   "cell_type": "code",
   "execution_count": 52,
   "metadata": {},
   "outputs": [],
   "source": [
    "\n",
    "np.save('labelsArr.npy', labelsArr)"
   ]
  },
  {
   "cell_type": "code",
   "execution_count": 53,
   "metadata": {},
   "outputs": [
    {
     "name": "stdout",
     "output_type": "stream",
     "text": [
      "[1. 1. 1. 1. 1. 1. 1. 1. 1. 1. 1. 1. 1. 1. 1. 1. 1. 1. 1. 1. 1. 1. 1. 1.\n",
      " 1. 1. 1. 1. 1. 1. 1. 1. 1. 1. 1. 1. 1. 1. 1. 1. 1. 1. 1. 1. 1. 1. 1. 1.\n",
      " 1. 1. 1. 1. 1. 1. 1. 1. 1. 1. 1. 1. 1. 1. 1. 1. 1. 1. 1. 1. 1. 1. 1. 1.\n",
      " 1. 1. 1. 1. 1. 1. 1. 1. 1. 1. 1. 1. 1. 1. 1. 1. 1. 1. 1. 1. 1. 1. 1. 1.\n",
      " 1. 1. 1. 1. 1. 1. 1. 1. 1. 1. 1. 1. 1. 1. 1. 1. 1. 1. 1. 1. 1. 1. 1. 1.\n",
      " 1. 1. 1. 1. 1. 1. 2. 2. 2. 2. 2. 2. 2. 2. 2. 2. 2. 2. 2. 2. 2. 2. 2. 2.\n",
      " 2. 2. 2. 2. 2. 2. 2. 2. 2. 2. 2. 2. 2. 2. 2. 2. 2. 2. 2. 2. 2. 2. 2. 2.\n",
      " 2. 2. 2. 2. 2. 2. 2. 2. 2. 2. 2. 2. 2. 2. 2. 2. 2. 2. 2. 2. 2. 2. 2. 2.\n",
      " 2.]\n"
     ]
    }
   ],
   "source": [
    "print(labelsArr)"
   ]
  },
  {
   "cell_type": "code",
   "execution_count": null,
   "metadata": {},
   "outputs": [],
   "source": []
  }
 ],
 "metadata": {
  "kernelspec": {
   "display_name": "Python 3",
   "language": "python",
   "name": "python3"
  },
  "language_info": {
   "codemirror_mode": {
    "name": "ipython",
    "version": 3
   },
   "file_extension": ".py",
   "mimetype": "text/x-python",
   "name": "python",
   "nbconvert_exporter": "python",
   "pygments_lexer": "ipython3",
   "version": "3.5.3"
  }
 },
 "nbformat": 4,
 "nbformat_minor": 4
}
