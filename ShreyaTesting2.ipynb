{
 "cells": [
  {
   "cell_type": "code",
   "execution_count": 1,
   "metadata": {},
   "outputs": [],
   "source": [
    "from PIL import Image\n",
    "import numpy as np\n",
    "import os"
   ]
  },
  {
   "cell_type": "markdown",
   "metadata": {},
   "source": [
    "# Import Image"
   ]
  },
  {
   "cell_type": "code",
   "execution_count": 2,
   "metadata": {},
   "outputs": [],
   "source": [
    "def load_image(imgFileName) :\n",
    "    img = Image.open(imgFileName) # in example image: width = 1920, height = 1080\n",
    "    imgData = np.asarray(img)\n",
    "    return imgData"
   ]
  },
  {
   "cell_type": "code",
   "execution_count": 3,
   "metadata": {},
   "outputs": [
    {
     "name": "stdout",
     "output_type": "stream",
     "text": [
      "Dimensions:  (1080, 1920, 3)\n",
      "Image array data:\n",
      " [[  0  43  56]\n",
      " [  0  44  57]\n",
      " [  3  47  60]\n",
      " ...\n",
      " [  1  62 119]\n",
      " [  0  61 118]\n",
      " [  0  61 118]]\n"
     ]
    }
   ],
   "source": [
    "# test loading image\n",
    "imageFileName = 'exampleImage.jpg'\n",
    "imgArr = load_image(imageFileName)\n",
    "print(\"Dimensions: \", imgArr.shape)\n",
    "print(\"Image array data:\\n\", imgArr[0])"
   ]
  },
  {
   "cell_type": "markdown",
   "metadata": {},
   "source": [
    "# Calculate Brightness"
   ]
  },
  {
   "cell_type": "code",
   "execution_count": 4,
   "metadata": {},
   "outputs": [],
   "source": [
    "def getTotBrightness(imgArray):\n",
    "    (height, width, depth) = imgArray.shape\n",
    "    totBrightness = 0\n",
    "\n",
    "    rgb_avg = np.mean(imgArray, axis=(0,1))\n",
    "    brightness = (0.2126*rgb_avg[0] + 0.7152*rgb_avg[1] + 0.0722*rgb_avg[2])/255.0\n",
    "    return brightness"
   ]
  },
  {
   "cell_type": "code",
   "execution_count": 5,
   "metadata": {},
   "outputs": [
    {
     "name": "stdout",
     "output_type": "stream",
     "text": [
      "0.32768453931024566\n",
      "0.6946060379361164\n"
     ]
    }
   ],
   "source": [
    "# get brightness tests\n",
    "imageFileName = './exampleImage.jpg'\n",
    "imageFileNameBright = './exampleBright.jpg'\n",
    "imgArr1 = load_image(imageFileName)\n",
    "imgArr2 = load_image(imageFileNameBright)\n",
    "print(getTotBrightness(imgArr1))\n",
    "print(getTotBrightness(imgArr2))"
   ]
  },
  {
   "cell_type": "code",
   "execution_count": 6,
   "metadata": {},
   "outputs": [],
   "source": [
    "brightnessList = []\n",
    "for root, dirs, files in os.walk(\"./../photos/\", topdown=True):\n",
    "    for name in files:\n",
    "        imgname = os.path.join(root, name)\n",
    "        imgarr = load_image(imgname)\n",
    "        brightnessList.append(getTotBrightness(imgarr))\n",
    "brightArr = np.array(brightnessList)"
   ]
  },
  {
   "cell_type": "code",
   "execution_count": 7,
   "metadata": {},
   "outputs": [
    {
     "name": "stdout",
     "output_type": "stream",
     "text": [
      "[0.46214918 0.4667961  0.506222   ... 0.43370807 0.477325   0.45928462]\n",
      "(1707,)\n"
     ]
    }
   ],
   "source": [
    "print(brightArr)\n",
    "print(brightArr.shape)"
   ]
  },
  {
   "cell_type": "code",
   "execution_count": 9,
   "metadata": {},
   "outputs": [],
   "source": [
    "np.save('brightArr.npy', brightArr)"
   ]
  },
  {
   "cell_type": "code",
   "execution_count": null,
   "metadata": {},
   "outputs": [],
   "source": []
  }
 ],
 "metadata": {
  "kernelspec": {
   "display_name": "Python 3",
   "language": "python",
   "name": "python3"
  },
  "language_info": {
   "codemirror_mode": {
    "name": "ipython",
    "version": 3
   },
   "file_extension": ".py",
   "mimetype": "text/x-python",
   "name": "python",
   "nbconvert_exporter": "python",
   "pygments_lexer": "ipython3",
   "version": "3.5.3"
  }
 },
 "nbformat": 4,
 "nbformat_minor": 4
}
